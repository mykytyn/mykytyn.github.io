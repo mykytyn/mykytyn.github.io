{
 "cells": [
  {
   "cell_type": "code",
   "execution_count": 1,
   "metadata": {},
   "outputs": [],
   "source": [
    "import numpy as np\n",
    "import matplotlib.pyplot as plt\n",
    "import xml.etree.ElementTree as ElemT\n",
    "import functools\n",
    "from itertools import count, filterfalse\n",
    "from scipy import stats\n",
    "import scipy.optimize as optimize\n",
    "from IPython.display import Math, Markdown\n",
    "import emcee"
   ]
  },
  {
   "cell_type": "markdown",
   "metadata": {},
   "source": [
    "## Misc Functions"
   ]
  },
  {
   "cell_type": "code",
   "execution_count": 2,
   "metadata": {},
   "outputs": [],
   "source": [
    "g = np.diag([-1., -1., -1., 1.])\n",
    "\n",
    "def invM(x):\n",
    "    k = np.sum(np.array(x)[::,6:10],axis=0)\n",
    "    return np.sqrt((k)@g@(k))\n",
    "\n",
    "def pT(x):\n",
    "    return np.sqrt(x[6]**2+x[7]**2)\n",
    "\n",
    "def m(x):\n",
    "    return x[6:10]@g@x[6:10]\n",
    "\n",
    "def ET(x):\n",
    "    return np.sqrt(m(x)+pT(x)**2)\n",
    "\n",
    "def cosθ(x):\n",
    "    return x[8]/np.sqrt(x[6]**2+x[7]**2+x[8]**2)"
   ]
  },
  {
   "cell_type": "code",
   "execution_count": 3,
   "metadata": {},
   "outputs": [],
   "source": [
    "def breitwigner(M, k, E, Γ):\n",
    "    return k/((E**2-M**2)**2+(M**2)*(Γ**2))"
   ]
  },
  {
   "cell_type": "code",
   "execution_count": 4,
   "metadata": {},
   "outputs": [],
   "source": [
    "filename_w = \"/home/davyd/installin/MG5_aMC_v2_6_5/wboson2/Events/run_01/unweighted_events.lhe\"\n",
    "filename_z = \"/home/davyd/installin/MG5_aMC_v2_6_5/classsim1/Events/run_01/unweighted_events.lhe\""
   ]
  },
  {
   "cell_type": "code",
   "execution_count": 5,
   "metadata": {},
   "outputs": [],
   "source": [
    "def parse_child(event):\n",
    "    initialpart = []\n",
    "    interpart = []\n",
    "    finalpart = []\n",
    "    for line in event[1].text[8:].splitlines()[1:]:\n",
    "        part = list(map(lambda x,y: int(x) if y<6 else float(x), line.lstrip().split(), count()))\n",
    "        {-1:initialpart, 2:interpart, 1:finalpart}[part[1]].append(np.array(part))\n",
    "    return finalpart"
   ]
  },
  {
   "cell_type": "code",
   "execution_count": 6,
   "metadata": {},
   "outputs": [],
   "source": [
    "def final_particles_gen(filename):\n",
    "    yield from map(parse_child,filter(lambda x: x[1].tag=='event', ElemT.iterparse(filename)))"
   ]
  },
  {
   "cell_type": "code",
   "execution_count": 7,
   "metadata": {},
   "outputs": [],
   "source": [
    "eμ = {11, -11, 13, -13}"
   ]
  },
  {
   "cell_type": "code",
   "execution_count": 8,
   "metadata": {},
   "outputs": [],
   "source": [
    "def eμ_generator(filename):\n",
    "    final_parts = final_particles_gen(filename)\n",
    "    return map(list, (filter(lambda x: int(x[0]) in eμ, event) for event in final_parts))"
   ]
  },
  {
   "cell_type": "markdown",
   "metadata": {},
   "source": [
    "## Z boson"
   ]
  },
  {
   "cell_type": "code",
   "execution_count": 9,
   "metadata": {},
   "outputs": [],
   "source": [
    "eμs = eμ_generator(filename_z)\n",
    "invmasses = list(map(invM,eμs))"
   ]
  },
  {
   "cell_type": "code",
   "execution_count": 10,
   "metadata": {},
   "outputs": [],
   "source": [
    "n, bins = np.histogram(invmasses, bins=100,range=(85,100), density=True)\n",
    "bins = bins[:-1]"
   ]
  },
  {
   "cell_type": "code",
   "execution_count": 11,
   "metadata": {},
   "outputs": [
    {
     "data": {
      "image/png": "[encoded data removed]",
      "text/plain": [
       "<Figure size 432x288 with 1 Axes>"
      ]
     },
     "metadata": {},
     "output_type": "display_data"
    }
   ],
   "source": [
    "popt, pcov = optimize.curve_fit(breitwigner, bins, n)\n",
    "\n",
    "popt = np.abs(popt)\n",
    "plt.hist(invmasses, bins=100,range=(85,100),alpha=.8, density=True)\n",
    "plt.plot(bins, breitwigner(bins, *popt));"
   ]
  },
  {
   "cell_type": "code",
   "execution_count": 12,
   "metadata": {},
   "outputs": [
    {
     "data": {
      "text/markdown": [
       "So we obtain a value for the Z mass of 91.1 GeV and a width of 2.47 GeV"
      ],
      "text/plain": [
       "<IPython.core.display.Markdown object>"
      ]
     },
     "execution_count": 12,
     "metadata": {},
     "output_type": "execute_result"
    }
   ],
   "source": [
    "Markdown(\"So we obtain a value for the Z mass of {:.3} GeV and a width of {:.3} GeV\".format(popt[1], popt[2]))"
   ]
  },
  {
   "cell_type": "markdown",
   "metadata": {},
   "source": [
    "### W$^\\pm$ Boson"
   ]
  },
  {
   "cell_type": "code",
   "execution_count": 13,
   "metadata": {},
   "outputs": [],
   "source": [
    "eμs = eμ_generator(filename_w)\n",
    "eμs = list(map(lambda x: x[0], eμ_generator(filename_w)))"
   ]
  },
  {
   "cell_type": "code",
   "execution_count": 14,
   "metadata": {},
   "outputs": [],
   "source": [
    "transverse = list(filterfalse(np.isnan, map(lambda x: np.sqrt(2*pT(x)*pT(x)*(1-cosθ(x))), eμs)))"
   ]
  },
  {
   "cell_type": "code",
   "execution_count": 15,
   "metadata": {},
   "outputs": [
    {
     "data": {
      "image/png": "[encoded data removed]",
      "text/plain": [
       "<Figure size 432x288 with 1 Axes>"
      ]
     },
     "metadata": {},
     "output_type": "display_data"
    }
   ],
   "source": [
    "plt.hist(transverse, bins=200, range=(0, 100))\n",
    "plt.axvline(80.385, color='r', alpha=.3);"
   ]
  },
  {
   "cell_type": "markdown",
   "metadata": {},
   "source": [
    "Not sure quite how to interpret this as an exact value, but by overlaying the true value, it seems that the cutoff is accurately reproduced at around the true value, but I have no idea how to obtain the resonance width."
   ]
  }
 ],
 "metadata": {
  "kernelspec": {
   "display_name": "Python 3",
   "language": "python",
   "name": "python3"
  },
  "language_info": {
   "codemirror_mode": {
    "name": "ipython",
    "version": 3
   },
   "file_extension": ".py",
   "mimetype": "text/x-python",
   "name": "python",
   "nbconvert_exporter": "python",
   "pygments_lexer": "ipython3",
   "version": "3.6.5"
  }
 },
 "nbformat": 4,
 "nbformat_minor": 2
}
